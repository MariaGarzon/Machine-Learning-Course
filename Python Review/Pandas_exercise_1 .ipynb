{
 "cells": [
  {
   "cell_type": "markdown",
   "metadata": {
    "id": "dLboyzh09l_k"
   },
   "source": [
    "# **PANDAS AND PLOTTING PRACTICE QUESTIONS**"
   ]
  },
  {
   "cell_type": "markdown",
   "metadata": {
    "id": "xUuwK_Yp9UxP"
   },
   "source": [
    "Below are exercise questions to practice contents from the lecture material."
   ]
  },
  {
   "cell_type": "markdown",
   "metadata": {
    "id": "9WfRFatX-KTk"
   },
   "source": [
    "##1. **List-to-Series Conversion**\n",
    "\n",
    "Given a list, output the corresponding pandas series\n",
    "\n",
    "`given_list = [2, 4, 5, 6, 9]`\n",
    "\n",
    "One-Dimensional: A Series is essentially a one-dimensional array, but unlike a NumPy array, it can have custom labels or indexes associated with each element.\n",
    "\n",
    "Each element in a Series has a label or index that can be used to access and manipulate the data"
   ]
  },
  {
   "cell_type": "code",
   "execution_count": 2,
   "metadata": {},
   "outputs": [],
   "source": [
    "import pandas as pd"
   ]
  },
  {
   "cell_type": "code",
   "execution_count": 4,
   "metadata": {
    "id": "EpAM0IJKKYd5"
   },
   "outputs": [],
   "source": [
    "given_list = [2, 4, 5, 6, 9]"
   ]
  },
  {
   "cell_type": "code",
   "execution_count": 6,
   "metadata": {},
   "outputs": [],
   "source": [
    "series = pd.Series(given_list)"
   ]
  },
  {
   "cell_type": "code",
   "execution_count": 8,
   "metadata": {},
   "outputs": [
    {
     "name": "stdout",
     "output_type": "stream",
     "text": [
      "0    2\n",
      "1    4\n",
      "2    5\n",
      "3    6\n",
      "4    9\n",
      "dtype: int64\n"
     ]
    }
   ],
   "source": [
    "print(series)"
   ]
  },
  {
   "cell_type": "markdown",
   "metadata": {
    "id": "abNLIJUJAK1o"
   },
   "source": [
    "##2. **List-to-Series Conversion with Custom Indexing**\n",
    "\n",
    "Using the same list provided, create a series with an index \"a\",\"b\",\"c\",\"d\", and \"e\". Save this Series as **given_series**.\n",
    "\n"
   ]
  },
  {
   "cell_type": "code",
   "execution_count": 10,
   "metadata": {
    "id": "MM-Rhe9FPQs9"
   },
   "outputs": [
    {
     "name": "stdout",
     "output_type": "stream",
     "text": [
      "a    2\n",
      "b    4\n",
      "c    5\n",
      "d    6\n",
      "e    9\n",
      "dtype: int64\n"
     ]
    }
   ],
   "source": [
    "custom_index = ['a', 'b', 'c', 'd', 'e']\n",
    "\n",
    "given_series = pd.Series(given_list, index=custom_index)\n",
    "\n",
    "print(given_series)"
   ]
  },
  {
   "cell_type": "markdown",
   "metadata": {
    "id": "f-UPt4UnBFDU"
   },
   "source": [
    "##3. **Retrieve information from Series**\n",
    "\n",
    "Using **given_series** retieve values for index b through d\n",
    "\n"
   ]
  },
  {
   "cell_type": "code",
   "execution_count": 11,
   "metadata": {
    "id": "TBE2Dh24w6fL"
   },
   "outputs": [],
   "source": [
    "values_b_to_d = given_series['b':'d']"
   ]
  },
  {
   "cell_type": "markdown",
   "metadata": {
    "id": "ugxbce8EBqO0"
   },
   "source": [
    "##4. **Create the following table in a dataframe called transcriptome.**\n",
    "\n",
    "_Note that the gene names are indexes and treatments are column names_\n",
    "\n",
    " _        | Control | Nitrogen | Phosphate | Potassium\n",
    "---------|---------|----------|-----------|-----------\n",
    "GeneA    |   89    |    78    |     77    |    56\n",
    "GeneB    |   90    |    99    |     85    |    97\n",
    "GeneC    |   78    |    94    |     99    |    87\n",
    "GeneD    |   81    |    83    |     80    |    79\n",
    "\n",
    "\n"
   ]
  },
  {
   "cell_type": "code",
   "execution_count": 12,
   "metadata": {
    "id": "ExTNCigRy37l"
   },
   "outputs": [],
   "source": [
    "data = {\n",
    "    'Control': [89, 90, 78, 81],\n",
    "    'Nitrogen': [78, 99, 94, 83],\n",
    "    'Phosphate': [77, 85, 99, 80],\n",
    "    'Potassium': [56, 97, 87, 79]\n",
    "}\n",
    "\n",
    "index = ['GeneA', 'GeneB', 'GeneC', 'GeneD']\n",
    "\n",
    "transcriptome = pd.DataFrame(data, index=index)"
   ]
  },
  {
   "cell_type": "code",
   "execution_count": 13,
   "metadata": {},
   "outputs": [
    {
     "data": {
      "text/html": [
       "<div>\n",
       "<style scoped>\n",
       "    .dataframe tbody tr th:only-of-type {\n",
       "        vertical-align: middle;\n",
       "    }\n",
       "\n",
       "    .dataframe tbody tr th {\n",
       "        vertical-align: top;\n",
       "    }\n",
       "\n",
       "    .dataframe thead th {\n",
       "        text-align: right;\n",
       "    }\n",
       "</style>\n",
       "<table border=\"1\" class=\"dataframe\">\n",
       "  <thead>\n",
       "    <tr style=\"text-align: right;\">\n",
       "      <th></th>\n",
       "      <th>Control</th>\n",
       "      <th>Nitrogen</th>\n",
       "      <th>Phosphate</th>\n",
       "      <th>Potassium</th>\n",
       "    </tr>\n",
       "  </thead>\n",
       "  <tbody>\n",
       "    <tr>\n",
       "      <th>GeneA</th>\n",
       "      <td>89</td>\n",
       "      <td>78</td>\n",
       "      <td>77</td>\n",
       "      <td>56</td>\n",
       "    </tr>\n",
       "    <tr>\n",
       "      <th>GeneB</th>\n",
       "      <td>90</td>\n",
       "      <td>99</td>\n",
       "      <td>85</td>\n",
       "      <td>97</td>\n",
       "    </tr>\n",
       "    <tr>\n",
       "      <th>GeneC</th>\n",
       "      <td>78</td>\n",
       "      <td>94</td>\n",
       "      <td>99</td>\n",
       "      <td>87</td>\n",
       "    </tr>\n",
       "    <tr>\n",
       "      <th>GeneD</th>\n",
       "      <td>81</td>\n",
       "      <td>83</td>\n",
       "      <td>80</td>\n",
       "      <td>79</td>\n",
       "    </tr>\n",
       "  </tbody>\n",
       "</table>\n",
       "</div>"
      ],
      "text/plain": [
       "       Control  Nitrogen  Phosphate  Potassium\n",
       "GeneA       89        78         77         56\n",
       "GeneB       90        99         85         97\n",
       "GeneC       78        94         99         87\n",
       "GeneD       81        83         80         79"
      ]
     },
     "execution_count": 13,
     "metadata": {},
     "output_type": "execute_result"
    }
   ],
   "source": [
    "transcriptome"
   ]
  },
  {
   "cell_type": "markdown",
   "metadata": {
    "id": "-Wl57rATCLUR"
   },
   "source": [
    "##5. **Calculate the Average for each Gene and add it as a separate column called expression_average**\n",
    "\n",
    "your answer should look like this:\n",
    "\n",
    " _        | Control | Nitrogen | Phosphate | Potassium | expression_average\n",
    "---------|---------|----------|-----------|-----------|-----\n",
    "GeneA    |   89    |    78    |     77    |    56 | 75\n",
    "GeneB    |   90    |    99    |     85    |    97 | 92.75\n",
    "GeneC    |   78    |    94    |     99    |    87 | 89.50\n",
    "GeneD    |   81    |    83    |     80    |    79 | 80.75\n",
    "\n"
   ]
  },
  {
   "cell_type": "code",
   "execution_count": 17,
   "metadata": {
    "id": "0BkV9xgFz5f6"
   },
   "outputs": [
    {
     "name": "stdout",
     "output_type": "stream",
     "text": [
      "       Control  Nitrogen  Phosphate  Potassium  expression_average\n",
      "GeneA       89        78         77         56               75.00\n",
      "GeneB       90        99         85         97               92.75\n",
      "GeneC       78        94         99         87               89.50\n",
      "GeneD       81        83         80         79               80.75\n"
     ]
    }
   ],
   "source": [
    "# Calculate the average for each gene and add it as a new column\n",
    "transcriptome['expression_average'] = transcriptome.mean(axis=1)\n",
    "\n",
    "print(transcriptome)"
   ]
  },
  {
   "cell_type": "markdown",
   "metadata": {
    "id": "uRPT-wCECcRq"
   },
   "source": [
    "##6. **Sort Dataframe such that gene with highest expression_average is on top**\n",
    "\n",
    "_Use a pandas dataframe method to accomplish this_"
   ]
  },
  {
   "cell_type": "code",
   "execution_count": 18,
   "metadata": {
    "id": "d6dnf8QF2Tq0"
   },
   "outputs": [
    {
     "name": "stdout",
     "output_type": "stream",
     "text": [
      "       Control  Nitrogen  Phosphate  Potassium  expression_average\n",
      "GeneB       90        99         85         97               92.75\n",
      "GeneC       78        94         99         87               89.50\n",
      "GeneD       81        83         80         79               80.75\n",
      "GeneA       89        78         77         56               75.00\n"
     ]
    }
   ],
   "source": [
    "# Sort the DataFrame by 'expression_average' in descending order\n",
    "transcriptome = transcriptome.sort_values(by='expression_average', ascending=False)\n",
    "\n",
    "print(transcriptome)"
   ]
  },
  {
   "cell_type": "markdown",
   "metadata": {
    "id": "HnOu-NT95IfW"
   },
   "source": [
    "transcriptome = transcriptome.drop(columns='expression_average')"
   ]
  },
  {
   "cell_type": "code",
   "execution_count": 19,
   "metadata": {
    "id": "WtLcG_qO5HwT"
   },
   "outputs": [],
   "source": [
    "transcriptome = transcriptome.drop(columns='expression_average')"
   ]
  },
  {
   "cell_type": "markdown",
   "metadata": {
    "id": "DgKl38XODlU9"
   },
   "source": [
    "##8. **Generate a barplot plotting the expression of GeneA**"
   ]
  },
  {
   "cell_type": "code",
   "execution_count": 21,
   "metadata": {},
   "outputs": [],
   "source": [
    "import matplotlib.pyplot as plt"
   ]
  },
  {
   "cell_type": "code",
   "execution_count": 22,
   "metadata": {
    "id": "8WUGwbUr3P5J"
   },
   "outputs": [
    {
     "data": {
      "image/png": "[encoded data removed]",
      "text/plain": [
       "<Figure size 800x600 with 1 Axes>"
      ]
     },
     "metadata": {},
     "output_type": "display_data"
    }
   ],
   "source": [
    "# Select the expression data for 'GeneA'\n",
    "geneA_expression = transcriptome.loc['GeneA']\n",
    "\n",
    "# Create a bar plot\n",
    "plt.figure(figsize=(8, 6))\n",
    "geneA_expression.plot(kind='bar', color='skyblue')\n",
    "plt.title('Expression of GeneA')\n",
    "plt.xlabel('Treatment')\n",
    "plt.ylabel('Expression')\n",
    "plt.xticks(rotation=0)\n",
    "plt.show()"
   ]
  },
  {
   "cell_type": "markdown",
   "metadata": {
    "id": "7qAdI0wc6Od_"
   },
   "source": [
    "## 9. Melt the dataframe and calle it transcriptome_melt\n",
    "\n",
    "First add a column named **GeneName** and fill it with the index from transcriptome\n",
    "\n",
    "Now when you melt you can use GeneName as the id_vars and the remaining as value_vars."
   ]
  },
  {
   "cell_type": "code",
   "execution_count": 24,
   "metadata": {
    "id": "Mjk5TJwm47aC"
   },
   "outputs": [],
   "source": [
    "transcriptome['GeneName'] = transcriptome.index"
   ]
  },
  {
   "cell_type": "code",
   "execution_count": 25,
   "metadata": {},
   "outputs": [
    {
     "name": "stdout",
     "output_type": "stream",
     "text": [
      "   GeneName  Treatment  Expression\n",
      "0     GeneB    Control          90\n",
      "1     GeneC    Control          78\n",
      "2     GeneD    Control          81\n",
      "3     GeneA    Control          89\n",
      "4     GeneB   Nitrogen          99\n",
      "5     GeneC   Nitrogen          94\n",
      "6     GeneD   Nitrogen          83\n",
      "7     GeneA   Nitrogen          78\n",
      "8     GeneB  Phosphate          85\n",
      "9     GeneC  Phosphate          99\n",
      "10    GeneD  Phosphate          80\n",
      "11    GeneA  Phosphate          77\n",
      "12    GeneB  Potassium          97\n",
      "13    GeneC  Potassium          87\n",
      "14    GeneD  Potassium          79\n",
      "15    GeneA  Potassium          56\n"
     ]
    }
   ],
   "source": [
    "# Melt the DataFrame\n",
    "transcriptome_melt = pd.melt(transcriptome, id_vars='GeneName', var_name='Treatment', value_name='Expression')\n",
    "\n",
    "print(transcriptome_melt)"
   ]
  },
  {
   "cell_type": "markdown",
   "metadata": {
    "id": "Rm79AYfmD4xZ"
   },
   "source": [
    "## 10. **Using the transcriptome_melt, create a line plot for each gene.**\n",
    "\n"
   ]
  },
  {
   "cell_type": "code",
   "execution_count": 39,
   "metadata": {
    "id": "N7v1S2nwFvXE"
   },
   "outputs": [],
   "source": [
    "# Get a list of unique gene names\n",
    "unique_genes = transcriptome_melt['GeneName'].unique()\n",
    "\n",
    "# Create a line plot for each gene\n",
    "for gene in unique_genes:\n",
    "    gene_data = transcriptome_melt[transcriptome_melt['GeneName'] == gene]\n",
    "    plt.figure(figsize=(8, 6))\n",
    "    plt.plot(gene_data['Treatment'], gene_data['Expression'], marker='o', label=gene)\n",
    "    plt.title(f'Expression of {gene}')\n",
    "    plt.xlabel('Treatment')\n",
    "    plt.ylabel('Expression')\n",
    "    plt.xticks(rotation=45)\n",
    "    plt.legend()\n",
    "    plt.grid(True)\n",
    "    plt.show()"
   ]
  }
 ],
 "metadata": {
  "colab": {
   "provenance": []
  },
  "kernelspec": {
   "display_name": "Python 3 (ipykernel)",
   "language": "python",
   "name": "python3"
  },
  "language_info": {
   "codemirror_mode": {
    "name": "ipython",
    "version": 3
   },
   "file_extension": ".py",
   "mimetype": "text/x-python",
   "name": "python",
   "nbconvert_exporter": "python",
   "pygments_lexer": "ipython3",
   "version": "3.11.4"
  }
 },
 "nbformat": 4,
 "nbformat_minor": 1
}
